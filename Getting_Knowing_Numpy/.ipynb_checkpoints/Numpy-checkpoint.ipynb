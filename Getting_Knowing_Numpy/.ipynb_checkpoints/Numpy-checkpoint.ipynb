{
 "cells": [
  {
   "cell_type": "code",
   "execution_count": 2,
   "id": "94a17671-b522-4c55-8da6-cdd1a2eeee79",
   "metadata": {},
   "outputs": [],
   "source": [
    "import numpy as np"
   ]
  },
  {
   "cell_type": "markdown",
   "id": "901c3511-61f1-4919-aea4-2ac0a26d2ac7",
   "metadata": {},
   "source": [
    "### creating numpy array "
   ]
  },
  {
   "cell_type": "code",
   "execution_count": 2,
   "id": "d4711efd-ec2d-471d-88ee-511171103a6b",
   "metadata": {},
   "outputs": [
    {
     "data": {
      "text/plain": [
       "array([1, 2, 3, 4])"
      ]
     },
     "execution_count": 2,
     "metadata": {},
     "output_type": "execute_result"
    }
   ],
   "source": [
    "np.array([1,2,3,4])"
   ]
  },
  {
   "cell_type": "code",
   "execution_count": 3,
   "id": "6b001edb-cf72-490a-a0e0-e96509135910",
   "metadata": {},
   "outputs": [
    {
     "data": {
      "text/plain": [
       "array([1.5, 2. , 3. , 4. ])"
      ]
     },
     "execution_count": 3,
     "metadata": {},
     "output_type": "execute_result"
    }
   ],
   "source": [
    "# numpy chỉ cho phép 1 kiểu dữ liệu trong 1 array, nếu có nhiều kiểu dữ liệu thì nó sẽ convert thành cùng 1 kiểu dữ liệu \n",
    "np.array([1.5,2,3,4])"
   ]
  },
  {
   "cell_type": "code",
   "execution_count": 4,
   "id": "ca40f3f3-6bfc-48b1-ae42-93158eff1ad0",
   "metadata": {},
   "outputs": [
    {
     "data": {
      "text/plain": [
       "array([1.5, 2. , 3. , 4. ], dtype=float32)"
      ]
     },
     "execution_count": 4,
     "metadata": {},
     "output_type": "execute_result"
    }
   ],
   "source": [
    "np.array([1.5,2,3,4], dtype ='float32') #convert mảng thành kiểu float32"
   ]
  },
  {
   "cell_type": "code",
   "execution_count": 7,
   "id": "9b520168-4718-404f-9205-714abf7dadb1",
   "metadata": {},
   "outputs": [],
   "source": [
    "# có thể gán mảng cho 1 biến bất kỳ \n",
    "a1 = np.array([1.5,2,3,4])"
   ]
  },
  {
   "cell_type": "markdown",
   "id": "fa54570b-bb6a-4600-9316-fea7503da3ad",
   "metadata": {},
   "source": [
    "### type "
   ]
  },
  {
   "cell_type": "code",
   "execution_count": 8,
   "id": "8855c49b-bc3f-4926-a4de-10677a2076d8",
   "metadata": {},
   "outputs": [
    {
     "data": {
      "text/plain": [
       "numpy.ndarray"
      ]
     },
     "execution_count": 8,
     "metadata": {},
     "output_type": "execute_result"
    }
   ],
   "source": [
    "type(a1) #kiểm tra kiểu dữ liệu "
   ]
  },
  {
   "cell_type": "markdown",
   "id": "bafd1b4c-a5e4-4944-aa1b-e1a574aa22ec",
   "metadata": {},
   "source": [
    "### shape"
   ]
  },
  {
   "cell_type": "code",
   "execution_count": 11,
   "id": "541e205b-0010-4e37-bbd2-4a6ccb08a83b",
   "metadata": {},
   "outputs": [
    {
     "data": {
      "text/plain": [
       "(2, 3)"
      ]
     },
     "execution_count": 11,
     "metadata": {},
     "output_type": "execute_result"
    }
   ],
   "source": [
    "a2 = np.array([[1,2,4],[3,5,6]])\n",
    "a2.shape #return mảng xem có bao nhiêu cột và bao nhiêu dòng"
   ]
  },
  {
   "cell_type": "markdown",
   "id": "852a9f1d-cbd2-40bf-9ff1-b9135329ae78",
   "metadata": {},
   "source": [
    "### ndim"
   ]
  },
  {
   "cell_type": "code",
   "execution_count": 12,
   "id": "f3bbf735-5a7c-4633-9a14-593ba0c85f5c",
   "metadata": {},
   "outputs": [
    {
     "data": {
      "text/plain": [
       "2"
      ]
     },
     "execution_count": 12,
     "metadata": {},
     "output_type": "execute_result"
    }
   ],
   "source": [
    "a2.ndim #số chiều của mảng"
   ]
  },
  {
   "cell_type": "markdown",
   "id": "8da442f1-beb3-4694-bdd9-8a4cc388d607",
   "metadata": {},
   "source": [
    "### dtype "
   ]
  },
  {
   "cell_type": "code",
   "execution_count": 13,
   "id": "e447d410-5022-436d-b2a3-86bd7dc34732",
   "metadata": {},
   "outputs": [
    {
     "data": {
      "text/plain": [
       "dtype('float64')"
      ]
     },
     "execution_count": 13,
     "metadata": {},
     "output_type": "execute_result"
    }
   ],
   "source": [
    "a1.dtype #kiểu dữ liệu "
   ]
  },
  {
   "cell_type": "markdown",
   "id": "25dcd305-7929-4a0e-91b5-97c8908cb89b",
   "metadata": {},
   "source": [
    "### size "
   ]
  },
  {
   "cell_type": "code",
   "execution_count": 14,
   "id": "909c86cc-7c01-490c-bc47-62e3ff2b272c",
   "metadata": {},
   "outputs": [
    {
     "data": {
      "text/plain": [
       "6"
      ]
     },
     "execution_count": 14,
     "metadata": {},
     "output_type": "execute_result"
    }
   ],
   "source": [
    "a2.size #kiểm tra xem có bao nhiêu phần tử "
   ]
  },
  {
   "cell_type": "markdown",
   "id": "cc6ecbe8-25dc-4550-9ffa-1982c25ee470",
   "metadata": {},
   "source": [
    "# Tạo numpy array sử dụng các hàm có sẵn "
   ]
  },
  {
   "cell_type": "markdown",
   "id": "89e25860-b505-4df7-9541-567b42144bcb",
   "metadata": {},
   "source": [
    "## zeros, ones, full, arange, linspace"
   ]
  },
  {
   "cell_type": "markdown",
   "id": "2a3b2777-c1e1-421e-be39-ad55bf733e78",
   "metadata": {},
   "source": [
    "### zeros"
   ]
  },
  {
   "cell_type": "code",
   "execution_count": 16,
   "id": "77bb3719-0703-4f2c-88e1-da3920de2c5e",
   "metadata": {},
   "outputs": [
    {
     "data": {
      "text/plain": [
       "array([[0., 0., 0., 0.],\n",
       "       [0., 0., 0., 0.]])"
      ]
     },
     "execution_count": 16,
     "metadata": {},
     "output_type": "execute_result"
    }
   ],
   "source": [
    "np.zeros([2,4]) #return về 1 mảng với giá tị là 0 "
   ]
  },
  {
   "cell_type": "code",
   "execution_count": 17,
   "id": "4c33183d-aa67-4c43-9285-ded35644106f",
   "metadata": {},
   "outputs": [
    {
     "data": {
      "text/plain": [
       "array([[0, 0, 0, 0],\n",
       "       [0, 0, 0, 0]])"
      ]
     },
     "execution_count": 17,
     "metadata": {},
     "output_type": "execute_result"
    }
   ],
   "source": [
    "np.zeros([2,4],dtype= int)"
   ]
  },
  {
   "cell_type": "markdown",
   "id": "40967f55-75e5-4319-994d-0ef49af73ce6",
   "metadata": {},
   "source": [
    "### ones"
   ]
  },
  {
   "cell_type": "code",
   "execution_count": 18,
   "id": "88304595-805e-4d15-96dd-3d9e9c926fab",
   "metadata": {},
   "outputs": [
    {
     "data": {
      "text/plain": [
       "array([[1., 1., 1., 1.],\n",
       "       [1., 1., 1., 1.],\n",
       "       [1., 1., 1., 1.]])"
      ]
     },
     "execution_count": 18,
     "metadata": {},
     "output_type": "execute_result"
    }
   ],
   "source": [
    "np.ones([3,4]) # Trả về 1 mảng với giá trị là 1 "
   ]
  },
  {
   "cell_type": "markdown",
   "id": "2e448f20-7e71-4420-ad18-4fbefe5658e0",
   "metadata": {},
   "source": [
    "### arange([start, ] stop[, step,], dtype = None)"
   ]
  },
  {
   "cell_type": "code",
   "execution_count": 19,
   "id": "cacee438-2e5c-479a-a536-1f0c2c090cb7",
   "metadata": {},
   "outputs": [
    {
     "data": {
      "text/plain": [
       "array([ 0,  2,  4,  6,  8, 10, 12, 14, 16, 18])"
      ]
     },
     "execution_count": 19,
     "metadata": {},
     "output_type": "execute_result"
    }
   ],
   "source": [
    "np.arange(0,20,2)"
   ]
  },
  {
   "cell_type": "markdown",
   "id": "7a17dcfa-eb24-49b1-a3d1-20d291c4876f",
   "metadata": {},
   "source": [
    "### full(shape, fill_value, dtype=None, order='C', *, like=None)"
   ]
  },
  {
   "cell_type": "code",
   "execution_count": 20,
   "id": "f2ad18e7-ed78-445a-8cd1-caf846212efe",
   "metadata": {},
   "outputs": [
    {
     "data": {
      "text/plain": [
       "array([[6.9, 6.9, 6.9, 6.9, 6.9],\n",
       "       [6.9, 6.9, 6.9, 6.9, 6.9],\n",
       "       [6.9, 6.9, 6.9, 6.9, 6.9]])"
      ]
     },
     "execution_count": 20,
     "metadata": {},
     "output_type": "execute_result"
    }
   ],
   "source": [
    "np.full((3,5), 6.9)"
   ]
  },
  {
   "cell_type": "markdown",
   "id": "157cc751-68fe-490c-ad9d-d89178214008",
   "metadata": {},
   "source": [
    "### linspace \n",
    "    np.linspace(\r\n",
    "    start,\r\n",
    "    stop,\r\n",
    "    num=50,\r\n",
    "    endpoint=True,\r\n",
    "    retstep=False,\r\n",
    "    dtype=None,\r\n",
    "    ax is=0,\r\n",
    ")"
   ]
  },
  {
   "cell_type": "code",
   "execution_count": 22,
   "id": "9e8bec03-98c1-43c9-b353-a6a0e19f260b",
   "metadata": {},
   "outputs": [
    {
     "data": {
      "text/plain": [
       "array([0.  , 0.25, 0.5 , 0.75, 1.  ])"
      ]
     },
     "execution_count": 22,
     "metadata": {},
     "output_type": "execute_result"
    }
   ],
   "source": [
    "np.linspace(0,1, 5) # hàm để tạo mảng với các phần tử cách đều nhau , ở đây là tạo 1 mảng vs 5 phần tử cách đều từ 0 đến 1 "
   ]
  },
  {
   "cell_type": "markdown",
   "id": "69fd7539-c144-4dac-a807-30c2e4371c37",
   "metadata": {},
   "source": [
    "### random ( size ) "
   ]
  },
  {
   "cell_type": "code",
   "execution_count": 29,
   "id": "a7f47ede-2cba-4579-ba13-6effffce9d4c",
   "metadata": {},
   "outputs": [
    {
     "data": {
      "text/plain": [
       "array([[0.0202184 , 0.83261985, 0.77815675, 0.87001215],\n",
       "       [0.97861834, 0.79915856, 0.46147936, 0.78052918],\n",
       "       [0.11827443, 0.63992102, 0.14335329, 0.94466892],\n",
       "       [0.52184832, 0.41466194, 0.26455561, 0.77423369]])"
      ]
     },
     "execution_count": 29,
     "metadata": {},
     "output_type": "execute_result"
    }
   ],
   "source": [
    "np.random.random((4,4)) # trả về một mảng các số ngẫu nhiên với giá trị nằm trong khoảng từ 0 đến 1."
   ]
  },
  {
   "cell_type": "markdown",
   "id": "924a45e9-5b40-4cab-9f26-1e4266048543",
   "metadata": {},
   "source": [
    "#### seed "
   ]
  },
  {
   "cell_type": "code",
   "execution_count": 28,
   "id": "87a01dc2-63ab-405c-9078-a64e71322f64",
   "metadata": {},
   "outputs": [
    {
     "data": {
      "text/plain": [
       "array([[0.5488135 , 0.71518937, 0.60276338, 0.54488318],\n",
       "       [0.4236548 , 0.64589411, 0.43758721, 0.891773  ],\n",
       "       [0.96366276, 0.38344152, 0.79172504, 0.52889492],\n",
       "       [0.56804456, 0.92559664, 0.07103606, 0.0871293 ]])"
      ]
     },
     "execution_count": 28,
     "metadata": {},
     "output_type": "execute_result"
    }
   ],
   "source": [
    "# Để tạo ra các số ngẫu nhiên giống nhau giữa các lần chạy ta dùng seed \n",
    "np.random.seed(0)\n",
    "np.random.random((4,4))"
   ]
  },
  {
   "cell_type": "markdown",
   "id": "c7f66c1b-0f2b-48a3-8a6c-4a7eaee05448",
   "metadata": {},
   "source": [
    "#### normal ( giá trị trung bình, độ lệch chuẩn, size ) \n",
    "tạo ra các số ngẫu nhiên theo phân phối chuẩn (phân phối Gaussian) "
   ]
  },
  {
   "cell_type": "code",
   "execution_count": 30,
   "id": "bf9144d8-c386-49d9-9176-901e318405f8",
   "metadata": {},
   "outputs": [
    {
     "data": {
      "text/plain": [
       "array([ 2.26975462, -1.45436567,  0.04575852, -0.18718385,  1.53277921,\n",
       "        1.46935877,  0.15494743,  0.37816252, -0.88778575, -1.98079647])"
      ]
     },
     "execution_count": 30,
     "metadata": {},
     "output_type": "execute_result"
    }
   ],
   "source": [
    "np.random.normal(0,1,10) "
   ]
  },
  {
   "cell_type": "markdown",
   "id": "8014edaf-ea5f-45ac-8fd4-8d48c7d33bf3",
   "metadata": {},
   "source": [
    "#### randint ()\n",
    "randint(low, high, size = None ) \n",
    "Tạo 1 mảng với các số NGUYÊN ngẫu nhiên nằm trong khoảng từ low đến high"
   ]
  },
  {
   "cell_type": "code",
   "execution_count": 4,
   "id": "1e3258d9-187e-4fcd-8d82-ca5b0e8b6253",
   "metadata": {},
   "outputs": [
    {
     "data": {
      "text/plain": [
       "2"
      ]
     },
     "execution_count": 4,
     "metadata": {},
     "output_type": "execute_result"
    }
   ],
   "source": [
    "np.random.randint(0,5)"
   ]
  },
  {
   "cell_type": "code",
   "execution_count": 16,
   "id": "2767d5ea-c2d1-4c2b-a368-368e0e748418",
   "metadata": {},
   "outputs": [
    {
     "data": {
      "text/plain": [
       "array([[6, 1],\n",
       "       [2, 1]])"
      ]
     },
     "execution_count": 16,
     "metadata": {},
     "output_type": "execute_result"
    }
   ],
   "source": [
    "np.random.randint(0,7,(2,2))\n",
    "np.random.randint(7, size = (2,2))"
   ]
  },
  {
   "cell_type": "markdown",
   "id": "e3dfb08b-a89e-428b-86d3-664da48ccc4c",
   "metadata": {},
   "source": [
    "#### rand(d0, d1, ...., dn) \n",
    "rand khác với random ở chỗ ta k cần phải khai báo 1 mảng (x,y) như trong random ((x,y)) mà ta chỉ cần ran(x,y)"
   ]
  },
  {
   "cell_type": "code",
   "execution_count": 8,
   "id": "cd8ed36c-8374-43ce-9e65-8c6edf27c96e",
   "metadata": {},
   "outputs": [
    {
     "data": {
      "text/plain": [
       "array([[0.16086614, 0.37947282, 0.38130263, 0.75147458],\n",
       "       [0.14069888, 0.60249547, 0.81601361, 0.70448917],\n",
       "       [0.3861693 , 0.83873688, 0.31209096, 0.48230822],\n",
       "       [0.39563133, 0.18460084, 0.44081495, 0.83719983]])"
      ]
     },
     "execution_count": 8,
     "metadata": {},
     "output_type": "execute_result"
    }
   ],
   "source": [
    "np.random.rand(4,4) "
   ]
  },
  {
   "cell_type": "markdown",
   "id": "e2779030-9519-4cd9-b370-2d2c21b5056c",
   "metadata": {},
   "source": [
    "# Truy xuất phần tử trong mảng \n"
   ]
  },
  {
   "cell_type": "markdown",
   "id": "d811eeef-17f7-435f-b629-94b761c3e44e",
   "metadata": {},
   "source": [
    "### đối vs mảng con 1 chiều "
   ]
  },
  {
   "cell_type": "code",
   "execution_count": 10,
   "id": "03402f6f-a499-446a-a1ba-3061a34ba75e",
   "metadata": {},
   "outputs": [
    {
     "data": {
      "text/plain": [
       "array([17, 16, 11,  0, 17, 18])"
      ]
     },
     "execution_count": 10,
     "metadata": {},
     "output_type": "execute_result"
    }
   ],
   "source": [
    "x1 = np.random.randint(20, size = 6 ) \n",
    "x1 "
   ]
  },
  {
   "cell_type": "code",
   "execution_count": 13,
   "id": "381f10b8-3c9f-462d-99fe-e17b2eeda8c2",
   "metadata": {},
   "outputs": [
    {
     "data": {
      "text/plain": [
       "17"
      ]
     },
     "execution_count": 13,
     "metadata": {},
     "output_type": "execute_result"
    }
   ],
   "source": [
    "# tiếp cận phần từ thứ bao nhiêu của mảng \n",
    "x1[4]"
   ]
  },
  {
   "cell_type": "code",
   "execution_count": 12,
   "id": "cc751791-f462-45b5-873d-d23df06e14d9",
   "metadata": {},
   "outputs": [
    {
     "data": {
      "text/plain": [
       "(17, 17, 18)"
      ]
     },
     "execution_count": 12,
     "metadata": {},
     "output_type": "execute_result"
    }
   ],
   "source": [
    "x1[4], x1[0], x1[-1] # Truy xuất phần tử cuôi cùng thì ta dùng [-1]"
   ]
  },
  {
   "cell_type": "markdown",
   "id": "a6573a53-0065-4615-ac1c-0d8aba785338",
   "metadata": {},
   "source": [
    "## đối vs mảng đa chiều "
   ]
  },
  {
   "cell_type": "code",
   "execution_count": 17,
   "id": "5a71b1f3-2dea-4839-b7d2-2b4a6c2b67d1",
   "metadata": {},
   "outputs": [
    {
     "data": {
      "text/plain": [
       "array([[6, 7, 9, 7],\n",
       "       [5, 6, 9, 1],\n",
       "       [0, 8, 4, 1]])"
      ]
     },
     "execution_count": 17,
     "metadata": {},
     "output_type": "execute_result"
    }
   ],
   "source": [
    "x2 = np.random.randint(10, size = (3,4))\n",
    "x2"
   ]
  },
  {
   "cell_type": "code",
   "execution_count": 19,
   "id": "8e5f80d4-680b-44db-b16c-e8bfc0ba3621",
   "metadata": {},
   "outputs": [
    {
     "data": {
      "text/plain": [
       "9"
      ]
     },
     "execution_count": 19,
     "metadata": {},
     "output_type": "execute_result"
    }
   ],
   "source": [
    "x2[1,2] #Truy xuất phần tử hàng 2, cột 3"
   ]
  },
  {
   "cell_type": "markdown",
   "id": "e1ff19dc-da29-48fd-8113-fd8fa3691821",
   "metadata": {},
   "source": [
    "# CHIA MẢNG "
   ]
  },
  {
   "cell_type": "markdown",
   "id": "c4197cc2-469e-4b43-9387-d5b359a28d55",
   "metadata": {},
   "source": [
    "\n",
    "## MẢNG 1 CHIỀU\n",
    "### x1[start: stop : step ], cắt từ phẩn tử thứ bao nhiêu đến phần tử thứ bao nhiêu "
   ]
  },
  {
   "cell_type": "code",
   "execution_count": 20,
   "id": "a98a39fb-8c98-4ec7-8d86-0e6dbb77e913",
   "metadata": {},
   "outputs": [
    {
     "data": {
      "text/plain": [
       "array([17, 16, 11,  0, 17, 18])"
      ]
     },
     "execution_count": 20,
     "metadata": {},
     "output_type": "execute_result"
    }
   ],
   "source": [
    "x1"
   ]
  },
  {
   "cell_type": "code",
   "execution_count": 22,
   "id": "8c4dfaa7-c8f3-489e-87e2-358868295258",
   "metadata": {},
   "outputs": [
    {
     "data": {
      "text/plain": [
       "array([17, 16])"
      ]
     },
     "execution_count": 22,
     "metadata": {},
     "output_type": "execute_result"
    }
   ],
   "source": [
    "x1[0:2] # cắt đoạn từ phần tử 0 đến phần tử 1 (k tính phần tử 2 ) "
   ]
  },
  {
   "cell_type": "code",
   "execution_count": 24,
   "id": "1331d86c-a74e-49aa-ba5d-3cd25ac92e97",
   "metadata": {},
   "outputs": [
    {
     "data": {
      "text/plain": [
       "array([17, 11, 17])"
      ]
     },
     "execution_count": 24,
     "metadata": {},
     "output_type": "execute_result"
    }
   ],
   "source": [
    "x1[::2] # Cứ 2 phần tử (step) thì cắt 1 lần "
   ]
  },
  {
   "cell_type": "markdown",
   "id": "051cf222-fb70-47e2-aed0-2f567a8c7f5c",
   "metadata": {},
   "source": [
    "## MẢNG ĐA CHIỀU "
   ]
  },
  {
   "cell_type": "code",
   "execution_count": 26,
   "id": "f06e1de4-086d-40b9-b648-99f48f9978d3",
   "metadata": {},
   "outputs": [
    {
     "data": {
      "text/plain": [
       "array([[6, 7, 9, 7],\n",
       "       [5, 6, 9, 1],\n",
       "       [0, 8, 4, 1]])"
      ]
     },
     "execution_count": 26,
     "metadata": {},
     "output_type": "execute_result"
    }
   ],
   "source": [
    "x2 "
   ]
  },
  {
   "cell_type": "code",
   "execution_count": 27,
   "id": "b1e52f0a-2f98-49cc-9c8a-43cb43d67234",
   "metadata": {},
   "outputs": [
    {
     "data": {
      "text/plain": [
       "array([[6, 7, 9],\n",
       "       [5, 6, 9]])"
      ]
     },
     "execution_count": 27,
     "metadata": {},
     "output_type": "execute_result"
    }
   ],
   "source": [
    "# cắt 2 dòng đầu, 3 cột đầu tiên \n",
    "x2[:2, :3]"
   ]
  },
  {
   "cell_type": "code",
   "execution_count": 29,
   "id": "8a850feb-80e9-43ab-84d8-ee3c018f5ccc",
   "metadata": {},
   "outputs": [
    {
     "data": {
      "text/plain": [
       "array([[6, 7],\n",
       "       [5, 6],\n",
       "       [0, 8]])"
      ]
     },
     "execution_count": 29,
     "metadata": {},
     "output_type": "execute_result"
    }
   ],
   "source": [
    "# cắt lấy 2 cột đầu tiên và tất cả dòng\n",
    "x2[:, :2]"
   ]
  },
  {
   "cell_type": "markdown",
   "id": "f18a34be-baad-4134-bebb-ecada6570aca",
   "metadata": {},
   "source": [
    "# Reshaping of Arrays and Transpose "
   ]
  },
  {
   "cell_type": "markdown",
   "id": "ee1c701e-612c-4531-b791-059d2fe22c3c",
   "metadata": {},
   "source": [
    "### reshape "
   ]
  },
  {
   "cell_type": "code",
   "execution_count": 31,
   "id": "36658a3e-e441-4126-bc38-eb2fcf19c49b",
   "metadata": {},
   "outputs": [
    {
     "data": {
      "text/plain": [
       "(9,)"
      ]
     },
     "execution_count": 31,
     "metadata": {},
     "output_type": "execute_result"
    }
   ],
   "source": [
    "grid = np.arange(1,10) \n",
    "grid.shape # đây là ma trận 1 chiều -> ta muốn chuyển thành ma trận dạng khác "
   ]
  },
  {
   "cell_type": "code",
   "execution_count": 33,
   "id": "d57d9e71-cfc7-4c0b-ae65-6b2e1273e471",
   "metadata": {},
   "outputs": [
    {
     "data": {
      "text/plain": [
       "array([[1, 2, 3],\n",
       "       [4, 5, 6],\n",
       "       [7, 8, 9]])"
      ]
     },
     "execution_count": 33,
     "metadata": {},
     "output_type": "execute_result"
    }
   ],
   "source": [
    "grid.reshape((3,3)) # đã reshape về dạng 3x3 "
   ]
  },
  {
   "cell_type": "code",
   "execution_count": 34,
   "id": "ee1d6007-bfc0-414a-a7c5-a1a1408d4b5b",
   "metadata": {},
   "outputs": [],
   "source": [
    "x = np.array([1,2,3])"
   ]
  },
  {
   "cell_type": "code",
   "execution_count": 35,
   "id": "1793b5d8-fc96-4983-8f2a-8377e6e25c62",
   "metadata": {},
   "outputs": [
    {
     "data": {
      "text/plain": [
       "(3,)"
      ]
     },
     "execution_count": 35,
     "metadata": {},
     "output_type": "execute_result"
    }
   ],
   "source": [
    "x.shape "
   ]
  },
  {
   "cell_type": "code",
   "execution_count": 39,
   "id": "1d399541-aae1-469a-80ca-4aafaf7c5153",
   "metadata": {},
   "outputs": [],
   "source": [
    "grid2 = x.reshape((1,3))"
   ]
  },
  {
   "cell_type": "code",
   "execution_count": 40,
   "id": "da1133ad-0ec6-470a-b7dd-baaa2cc643bf",
   "metadata": {},
   "outputs": [
    {
     "data": {
      "text/plain": [
       "(1, 3)"
      ]
     },
     "execution_count": 40,
     "metadata": {},
     "output_type": "execute_result"
    }
   ],
   "source": [
    "grid2.shape"
   ]
  },
  {
   "cell_type": "markdown",
   "id": "efc033c2-f4ac-4f48-a585-04e92e95c4fe",
   "metadata": {},
   "source": [
    "### transpose ( biến hàng thành cột, cột thành hàng )  "
   ]
  },
  {
   "cell_type": "code",
   "execution_count": 42,
   "id": "4f7de124-4d11-41d2-8073-fbc470ab844b",
   "metadata": {},
   "outputs": [],
   "source": [
    "x = np.array([[1,2],[3,4]])"
   ]
  },
  {
   "cell_type": "code",
   "execution_count": 43,
   "id": "2b23aa1b-2dbe-412c-b50c-13c1cab0f597",
   "metadata": {},
   "outputs": [
    {
     "data": {
      "text/plain": [
       "array([[1, 2],\n",
       "       [3, 4]])"
      ]
     },
     "execution_count": 43,
     "metadata": {},
     "output_type": "execute_result"
    }
   ],
   "source": [
    "x"
   ]
  },
  {
   "cell_type": "code",
   "execution_count": 44,
   "id": "9529dc19-055b-4b11-83cb-5053088b576b",
   "metadata": {},
   "outputs": [
    {
     "data": {
      "text/plain": [
       "array([[1, 3],\n",
       "       [2, 4]])"
      ]
     },
     "execution_count": 44,
     "metadata": {},
     "output_type": "execute_result"
    }
   ],
   "source": [
    "x.T"
   ]
  },
  {
   "cell_type": "markdown",
   "id": "17edbade-a14a-44ec-976a-304cab9ef6e6",
   "metadata": {},
   "source": [
    "# Nối mảng và tách mảng "
   ]
  },
  {
   "cell_type": "markdown",
   "id": "e9e122ea-0139-490c-b1d9-a5f8326c70c0",
   "metadata": {},
   "source": [
    "## Nối mảng ( array concatenation ) \n",
    "\n"
   ]
  },
  {
   "cell_type": "markdown",
   "id": "ee7a3c21-a2a4-477b-8578-4a138e8e7015",
   "metadata": {},
   "source": [
    "### concatenate((a1, a2, ...), axis=0, out=None, dtype=None, casting=\"same_kind\")\n",
    "axis = 0 thì nối theo hàng, axis = 1 thì nối theo cột "
   ]
  },
  {
   "cell_type": "code",
   "execution_count": 45,
   "id": "d3e1fa08-f184-4a0d-93ce-faa062056d69",
   "metadata": {},
   "outputs": [],
   "source": [
    "x = np.array([1,2,3])\n",
    "y = np.array([3,2,1])"
   ]
  },
  {
   "cell_type": "code",
   "execution_count": 47,
   "id": "7d94c726-047e-4e06-bf1c-7cdd8f234799",
   "metadata": {},
   "outputs": [
    {
     "data": {
      "text/plain": [
       "array([1, 2, 3, 3, 2, 1])"
      ]
     },
     "execution_count": 47,
     "metadata": {},
     "output_type": "execute_result"
    }
   ],
   "source": [
    "np.concatenate((x,y))"
   ]
  },
  {
   "cell_type": "code",
   "execution_count": 49,
   "id": "ae2dc896-2726-4824-ad18-e3811a45c498",
   "metadata": {},
   "outputs": [
    {
     "data": {
      "text/plain": [
       "array([[1, 2, 3],\n",
       "       [4, 5, 6]])"
      ]
     },
     "execution_count": 49,
     "metadata": {},
     "output_type": "execute_result"
    }
   ],
   "source": [
    "grid = np.array([[1,2,3],[4,5,6 # mặc định nối theo chiều ngang\n",
    "grid "
   ]
  },
  {
   "cell_type": "code",
   "execution_count": 50,
   "id": "ee87d367-cfab-43f5-8577-0414160a9093",
   "metadata": {},
   "outputs": [
    {
     "data": {
      "text/plain": [
       "array([[1, 2, 3, 1, 2, 3],\n",
       "       [4, 5, 6, 4, 5, 6]])"
      ]
     },
     "execution_count": 50,
     "metadata": {},
     "output_type": "execute_result"
    }
   ],
   "source": [
    "np.concatenate((grid, grid), axis = 1)"
   ]
  },
  {
   "cell_type": "markdown",
   "id": "835f6e85-4c2b-43bc-8362-8221025c041f",
   "metadata": {},
   "source": [
    "### vstack : nối mảng theo chiều dọc "
   ]
  },
  {
   "cell_type": "code",
   "execution_count": 54,
   "id": "44955407-8409-4d87-9f05-301d9797bb82",
   "metadata": {},
   "outputs": [],
   "source": [
    "x = np.array([1,2,3])\n",
    "grid = np.array([[9,8,7], [6,5,4]])"
   ]
  },
  {
   "cell_type": "code",
   "execution_count": 55,
   "id": "4c5542aa-d7aa-41bb-9fd7-d9bc0e53f054",
   "metadata": {},
   "outputs": [
    {
     "data": {
      "text/plain": [
       "array([[1, 2, 3],\n",
       "       [9, 8, 7],\n",
       "       [6, 5, 4]])"
      ]
     },
     "execution_count": 55,
     "metadata": {},
     "output_type": "execute_result"
    }
   ],
   "source": [
    "np.vstack((x,grid))"
   ]
  },
  {
   "cell_type": "markdown",
   "id": "f8ff8089-5a6a-492c-a532-fd4fdc1ee82f",
   "metadata": {},
   "source": [
    "### hstack : nối mảng theo chiều ngang "
   ]
  },
  {
   "cell_type": "code",
   "execution_count": 63,
   "id": "07d74015-8a51-40c5-a802-d66829fb0e81",
   "metadata": {},
   "outputs": [],
   "source": [
    "y = np.array([[99],[99]])"
   ]
  },
  {
   "cell_type": "code",
   "execution_count": 64,
   "id": "8434440f-a9eb-47fb-aea0-547ee94b11b9",
   "metadata": {},
   "outputs": [
    {
     "data": {
      "text/plain": [
       "array([[99,  9,  8,  7],\n",
       "       [99,  6,  5,  4]])"
      ]
     },
     "execution_count": 64,
     "metadata": {},
     "output_type": "execute_result"
    }
   ],
   "source": [
    "np.hstack((y,grid))"
   ]
  },
  {
   "cell_type": "markdown",
   "id": "33d40634-200c-4660-afd2-b26408308b89",
   "metadata": {},
   "source": [
    "## Chia mảng \n",
    "## split ( mảng muốn chia, [x,y]) với x,y là giới hạn mảng con muốn chia "
   ]
  },
  {
   "cell_type": "code",
   "execution_count": 65,
   "id": "51e002e0-01c9-47fa-99ec-8caa3b2186d9",
   "metadata": {},
   "outputs": [],
   "source": [
    "x = np.array([1,2,3,99,69,3,2,1])"
   ]
  },
  {
   "cell_type": "code",
   "execution_count": 66,
   "id": "553dd382-eba0-4233-8928-52d49bd6db9d",
   "metadata": {},
   "outputs": [
    {
     "data": {
      "text/plain": [
       "[array([1, 2, 3]), array([99, 69]), array([3, 2, 1])]"
      ]
     },
     "execution_count": 66,
     "metadata": {},
     "output_type": "execute_result"
    }
   ],
   "source": [
    "np.split(x, [3,5])"
   ]
  },
  {
   "cell_type": "markdown",
   "id": "2c82c84e-499a-4556-bb5c-4e74a7edfc51",
   "metadata": {},
   "source": [
    "# Broadcasting \n",
    "Broadcasting giúp thực hiện các phép toán trên các mảng có kích thước khác nhau 1 cách linh hoạt như cộng, trừ, nhân, chia mảng "
   ]
  },
  {
   "cell_type": "code",
   "execution_count": 67,
   "id": "c0e21b6d-a09a-4e20-8e83-40b586448db0",
   "metadata": {},
   "outputs": [
    {
     "data": {
      "text/plain": [
       "array([0, 1, 2])"
      ]
     },
     "execution_count": 67,
     "metadata": {},
     "output_type": "execute_result"
    }
   ],
   "source": [
    "a = np.arange(3) \n",
    "a "
   ]
  },
  {
   "cell_type": "code",
   "execution_count": 69,
   "id": "a98ab9ee-3ce1-4c00-976e-1165ba0d61be",
   "metadata": {},
   "outputs": [
    {
     "data": {
      "text/plain": [
       "array([5, 6, 7])"
      ]
     },
     "execution_count": 69,
     "metadata": {},
     "output_type": "execute_result"
    }
   ],
   "source": [
    "a + 5 # broadcasting , 0+5 = 5, 1+5= 6 , 2+5 = 7"
   ]
  },
  {
   "cell_type": "code",
   "execution_count": 74,
   "id": "78eaa63d-8843-48ac-bb3e-a165c8070263",
   "metadata": {},
   "outputs": [
    {
     "data": {
      "text/plain": [
       "array([[1., 1., 1.],\n",
       "       [1., 1., 1.],\n",
       "       [1., 1., 1.]])"
      ]
     },
     "execution_count": 74,
     "metadata": {},
     "output_type": "execute_result"
    }
   ],
   "source": [
    "b = np.ones((3,3))\n",
    "b "
   ]
  },
  {
   "cell_type": "code",
   "execution_count": 71,
   "id": "796c2c4c-5e80-44af-a001-f21a00ef72f6",
   "metadata": {},
   "outputs": [
    {
     "data": {
      "text/plain": [
       "array([[1., 2., 3.],\n",
       "       [1., 2., 3.],\n",
       "       [1., 2., 3.]])"
      ]
     },
     "execution_count": 71,
     "metadata": {},
     "output_type": "execute_result"
    }
   ],
   "source": [
    "a + b "
   ]
  },
  {
   "cell_type": "code",
   "execution_count": 72,
   "id": "37ea95f6-0820-4072-9b87-989e4d885237",
   "metadata": {},
   "outputs": [
    {
     "data": {
      "text/plain": [
       "array([[0., 1., 2.],\n",
       "       [0., 1., 2.],\n",
       "       [0., 1., 2.]])"
      ]
     },
     "execution_count": 72,
     "metadata": {},
     "output_type": "execute_result"
    }
   ],
   "source": [
    "a * b "
   ]
  },
  {
   "cell_type": "code",
   "execution_count": 75,
   "id": "3f8c9b62-0099-4b86-9fb6-fb064bbbbb19",
   "metadata": {},
   "outputs": [
    {
     "data": {
      "text/plain": [
       "array([[0],\n",
       "       [1],\n",
       "       [2]])"
      ]
     },
     "execution_count": 75,
     "metadata": {},
     "output_type": "execute_result"
    }
   ],
   "source": [
    "c = np.arange(3).reshape((3,1))\n",
    "c "
   ]
  },
  {
   "cell_type": "code",
   "execution_count": 76,
   "id": "4acde315-bc1f-4849-ac0b-41b4dc08edf5",
   "metadata": {},
   "outputs": [
    {
     "data": {
      "text/plain": [
       "array([[0, 1, 2],\n",
       "       [1, 2, 3],\n",
       "       [2, 3, 4]])"
      ]
     },
     "execution_count": 76,
     "metadata": {},
     "output_type": "execute_result"
    }
   ],
   "source": [
    "a + c"
   ]
  },
  {
   "cell_type": "markdown",
   "id": "41074ab8-6eb8-42c5-a15c-073bad973a6e",
   "metadata": {},
   "source": [
    "# Manipulating and Comparing Arrays "
   ]
  },
  {
   "cell_type": "markdown",
   "id": "a2b5707d-22f5-41a6-9dfd-968dce965ede",
   "metadata": {},
   "source": [
    "### aggregation "
   ]
  },
  {
   "cell_type": "code",
   "execution_count": 78,
   "id": "d76c4dff-5271-46ab-b357-08e99eaa7bf8",
   "metadata": {},
   "outputs": [],
   "source": [
    "list = [1,2,3]"
   ]
  },
  {
   "cell_type": "code",
   "execution_count": 79,
   "id": "e813e6e1-9509-4179-a64b-448d81a02d07",
   "metadata": {},
   "outputs": [],
   "source": [
    "ll = np.array(list)"
   ]
  },
  {
   "cell_type": "code",
   "execution_count": 80,
   "id": "505a43ac-312e-4b42-9c36-3647d509994e",
   "metadata": {},
   "outputs": [
    {
     "data": {
      "text/plain": [
       "array([1, 2, 3])"
      ]
     },
     "execution_count": 80,
     "metadata": {},
     "output_type": "execute_result"
    }
   ],
   "source": [
    "ll"
   ]
  },
  {
   "cell_type": "code",
   "execution_count": 85,
   "id": "08721452-160b-4cd7-b30d-6baf6517d510",
   "metadata": {},
   "outputs": [
    {
     "data": {
      "text/plain": [
       "6"
      ]
     },
     "execution_count": 85,
     "metadata": {},
     "output_type": "execute_result"
    }
   ],
   "source": [
    "sum(ll) #hàm trong python"
   ]
  },
  {
   "cell_type": "code",
   "execution_count": 86,
   "id": "b00e20f3-b78e-4d7f-9d63-681a0bb68db5",
   "metadata": {},
   "outputs": [
    {
     "data": {
      "text/plain": [
       "6"
      ]
     },
     "execution_count": 86,
     "metadata": {},
     "output_type": "execute_result"
    }
   ],
   "source": [
    "np.sum(ll) # hàm trong numpy"
   ]
  },
  {
   "cell_type": "code",
   "execution_count": 84,
   "id": "88f2fc8f-2c50-4e25-8ec2-2fb5454ca63d",
   "metadata": {},
   "outputs": [
    {
     "data": {
      "text/plain": [
       "(10000,)"
      ]
     },
     "execution_count": 84,
     "metadata": {},
     "output_type": "execute_result"
    }
   ],
   "source": [
    "# create massive array \n",
    "massive_array = np.random.random(10000)\n",
    "massive_array.shape"
   ]
  },
  {
   "cell_type": "code",
   "execution_count": 87,
   "id": "0ad1265e-ec38-4502-94da-19f9888157f0",
   "metadata": {},
   "outputs": [
    {
     "name": "stdout",
     "output_type": "stream",
     "text": [
      "618 μs ± 16.5 μs per loop (mean ± std. dev. of 7 runs, 1,000 loops each)\n",
      "5.73 μs ± 370 ns per loop (mean ± std. dev. of 7 runs, 100,000 loops each)\n"
     ]
    }
   ],
   "source": [
    "%timeit sum(massive_array)\n",
    "%timeit np.sum(massive_array)"
   ]
  },
  {
   "cell_type": "markdown",
   "id": "1ec8e2be-d101-4d51-b57b-da18c6907f33",
   "metadata": {},
   "source": [
    "==> hàm của numpy nhanh hơn "
   ]
  },
  {
   "cell_type": "code",
   "execution_count": 88,
   "id": "e5d32035-b0c8-4df7-8cc0-7f90011a0142",
   "metadata": {},
   "outputs": [
    {
     "data": {
      "text/plain": [
       "0.5005406490609139"
      ]
     },
     "execution_count": 88,
     "metadata": {},
     "output_type": "execute_result"
    }
   ],
   "source": [
    "np.mean(massive_array)"
   ]
  },
  {
   "cell_type": "code",
   "execution_count": 89,
   "id": "cec6904f-4ca7-467f-b8f3-987365a693a8",
   "metadata": {},
   "outputs": [
    {
     "data": {
      "text/plain": [
       "0.9999331226589757"
      ]
     },
     "execution_count": 89,
     "metadata": {},
     "output_type": "execute_result"
    }
   ],
   "source": [
    "np.max(massive_array)"
   ]
  },
  {
   "cell_type": "code",
   "execution_count": 90,
   "id": "51eafb69-acf0-4e47-945d-f51a048f2743",
   "metadata": {},
   "outputs": [
    {
     "data": {
      "text/plain": [
       "7.880707725482772e-05"
      ]
     },
     "execution_count": 90,
     "metadata": {},
     "output_type": "execute_result"
    }
   ],
   "source": [
    "np.min(massive_array)"
   ]
  },
  {
   "cell_type": "markdown",
   "id": "b03fd219-a978-4206-9277-998b67527801",
   "metadata": {},
   "source": [
    "# Standard Deviation : Độ lệch chuẩn, Variance: phương sai"
   ]
  },
  {
   "cell_type": "markdown",
   "id": "2accd1cd-8b3b-4182-8c66-6226e90ff611",
   "metadata": {},
   "source": [
    "#### PHƯƠNG SAI là đại lượng đo mức độ phân tán của các giá trị trong một tập dữ liệu so với giá trị trung bình của tập dữ liệu đó. Nó cho biết các giá trị trong tập dữ liệu thay đổi như thế nào so với trung bình\n",
    "#### ĐỘ LỆCH CHUẨN là căn bậc hai của phương sai. Nó cũng đo mức độ phân tán, nhưng có cùng đơn vị với các giá trị ban đầu trong tập dữ liệu, do đó dễ hiểu và sử dụng hơn phương sai.."
   ]
  },
  {
   "cell_type": "markdown",
   "id": "6b10aa0a-fd75-4245-bda3-45c675785a98",
   "metadata": {},
   "source": [
    "![Công thức phương sai](dolechchuan.png)\n",
    "![Công thức độ lệch chuẩn](1.png)\n",
    "![Ví dụ](2.png)\r\n",
    "\n",
    "\r\n"
   ]
  },
  {
   "cell_type": "code",
   "execution_count": 93,
   "id": "136ca150-2ab0-4adc-9221-a81010e23335",
   "metadata": {},
   "outputs": [
    {
     "data": {
      "text/plain": [
       "147.32277488562318"
      ]
     },
     "execution_count": 93,
     "metadata": {},
     "output_type": "execute_result"
    }
   ],
   "source": [
    "dog_height = [600,470,170,430,300] # chiều cao của 5 con chó, với giá trị mean ( trung bình ) là : 394 \n",
    "dog_height = np.array(dog_height)\n",
    "np.std(dog_height) \n",
    "# tính độ lệch chuẩn, ta có độ lệch chuẩn là 147. Vậy có nghĩa là những con chó cao trong khoảng 394 +- 147 là những con chó cao trung bình"
   ]
  },
  {
   "cell_type": "code",
   "execution_count": 94,
   "id": "42c3158c-ecb3-4005-aba6-78ae60af8468",
   "metadata": {},
   "outputs": [
    {
     "data": {
      "text/plain": [
       "21704.0"
      ]
     },
     "execution_count": 94,
     "metadata": {},
     "output_type": "execute_result"
    }
   ],
   "source": [
    "np.var(dog_height)"
   ]
  },
  {
   "cell_type": "markdown",
   "id": "f8c6e4e2-a085-4f81-88e2-06e24ba5b6e4",
   "metadata": {},
   "source": [
    "# Sorting arrays \n",
    "np.sort dữ trên thuật toán quick sort "
   ]
  },
  {
   "cell_type": "code",
   "execution_count": 95,
   "id": "e19603f5-5861-4cde-bd8e-2666b99a7bd2",
   "metadata": {},
   "outputs": [
    {
     "data": {
      "text/plain": [
       "array([1, 2, 3, 4, 5])"
      ]
     },
     "execution_count": 95,
     "metadata": {},
     "output_type": "execute_result"
    }
   ],
   "source": [
    "x = np.array([2,1,3,4,5])\n",
    "np.sort(x)"
   ]
  },
  {
   "cell_type": "code",
   "execution_count": 97,
   "id": "74f0a174-9824-461d-af05-415550af5f85",
   "metadata": {},
   "outputs": [
    {
     "data": {
      "text/plain": [
       "array([1, 0, 2, 3, 4], dtype=int64)"
      ]
     },
     "execution_count": 97,
     "metadata": {},
     "output_type": "execute_result"
    }
   ],
   "source": [
    "np.argsort(x) # trả về VỊ TRÍ của các index, ví dụ số 1 nằm ở vị trí số 1, số 2 nằm ở vị trí 0 "
   ]
  },
  {
   "cell_type": "markdown",
   "id": "edf1dc24-0172-4e62-a7f9-068dc40775da",
   "metadata": {},
   "source": [
    "# Sorting qua dòng và cột "
   ]
  },
  {
   "cell_type": "code",
   "execution_count": 98,
   "id": "9e879852-0cb7-4b1c-9318-0a1659674a1e",
   "metadata": {},
   "outputs": [],
   "source": [
    "np.random.seed(42) \n",
    "MatA = np.random.randint(0,10, size =(4,6))"
   ]
  },
  {
   "cell_type": "code",
   "execution_count": 99,
   "id": "61294bb9-4ebf-4544-b5d5-babe6b54c686",
   "metadata": {},
   "outputs": [
    {
     "data": {
      "text/plain": [
       "array([[6, 3, 7, 4, 6, 9],\n",
       "       [2, 6, 7, 4, 3, 7],\n",
       "       [7, 2, 5, 4, 1, 7],\n",
       "       [5, 1, 4, 0, 9, 5]])"
      ]
     },
     "execution_count": 99,
     "metadata": {},
     "output_type": "execute_result"
    }
   ],
   "source": [
    "MatA"
   ]
  },
  {
   "cell_type": "code",
   "execution_count": 100,
   "id": "2e5c0f1b-3256-4fee-8bde-cfd3172c81dc",
   "metadata": {},
   "outputs": [
    {
     "data": {
      "text/plain": [
       "array([[2, 1, 4, 0, 1, 5],\n",
       "       [5, 2, 5, 4, 3, 7],\n",
       "       [6, 3, 7, 4, 6, 7],\n",
       "       [7, 6, 7, 4, 9, 9]])"
      ]
     },
     "execution_count": 100,
     "metadata": {},
     "output_type": "execute_result"
    }
   ],
   "source": [
    "np.sort(MatA, axis = 0) # Sắp xếp theo cột "
   ]
  },
  {
   "cell_type": "code",
   "execution_count": 101,
   "id": "cf7f00a5-d60a-4c2c-944d-656eb61f86c8",
   "metadata": {},
   "outputs": [
    {
     "data": {
      "text/plain": [
       "array([[3, 4, 6, 6, 7, 9],\n",
       "       [2, 3, 4, 6, 7, 7],\n",
       "       [1, 2, 4, 5, 7, 7],\n",
       "       [0, 1, 4, 5, 5, 9]])"
      ]
     },
     "execution_count": 101,
     "metadata": {},
     "output_type": "execute_result"
    }
   ],
   "source": [
    "np.sort(MatA, axis = 1) # Sắp xếp theo hàng "
   ]
  },
  {
   "cell_type": "markdown",
   "id": "2b0c3feb-5a3c-4699-957c-7e75f31c8daf",
   "metadata": {},
   "source": [
    " # Đại số tuyến tính "
   ]
  },
  {
   "cell_type": "code",
   "execution_count": 108,
   "id": "b888fe31-ca26-49b2-addd-73ac8adb051f",
   "metadata": {},
   "outputs": [
    {
     "data": {
      "text/plain": [
       "array([[1, 2, 3],\n",
       "       [4, 5, 6],\n",
       "       [7, 8, 9]])"
      ]
     },
     "execution_count": 108,
     "metadata": {},
     "output_type": "execute_result"
    }
   ],
   "source": [
    "a = np.array([[1,2,3],[4,5,6],[7,8,9]])\n",
    "a"
   ]
  },
  {
   "cell_type": "code",
   "execution_count": 109,
   "id": "065f5ff2-1c61-484d-a5f4-8a5c1bab385f",
   "metadata": {},
   "outputs": [
    {
     "data": {
      "text/plain": [
       "array([[6, 5],\n",
       "       [4, 3],\n",
       "       [2, 1]])"
      ]
     },
     "execution_count": 109,
     "metadata": {},
     "output_type": "execute_result"
    }
   ],
   "source": [
    "b = np.array([[6,5],[4,3],[2,1]])\n",
    "b"
   ]
  },
  {
   "cell_type": "code",
   "execution_count": 107,
   "id": "140b941b-f70e-4dfb-bad7-ee9296fae3d2",
   "metadata": {},
   "outputs": [
    {
     "data": {
      "text/plain": [
       "array([[20, 14],\n",
       "       [56, 41],\n",
       "       [92, 68]])"
      ]
     },
     "execution_count": 107,
     "metadata": {},
     "output_type": "execute_result"
    }
   ],
   "source": [
    "# a(3x3) nhân b (3x2) => nhân đc vì cột a = hàng b \n",
    "a.dot(b) # a nhân tích vô hướng với ma trận b \n"
   ]
  },
  {
   "cell_type": "code",
   "execution_count": 110,
   "id": "367ce3f4-72ec-464e-a8d0-8fbe328d6d8e",
   "metadata": {},
   "outputs": [
    {
     "data": {
      "text/plain": [
       "20"
      ]
     },
     "execution_count": 110,
     "metadata": {},
     "output_type": "execute_result"
    }
   ],
   "source": [
    "1*6 + 2*4 + 3*2 "
   ]
  },
  {
   "cell_type": "code",
   "execution_count": 111,
   "id": "2c23363b-1ca0-4327-983e-2c921e8c460f",
   "metadata": {},
   "outputs": [
    {
     "data": {
      "text/plain": [
       "array([[20, 14],\n",
       "       [56, 41],\n",
       "       [92, 68]])"
      ]
     },
     "execution_count": 111,
     "metadata": {},
     "output_type": "execute_result"
    }
   ],
   "source": [
    "a @ b "
   ]
  },
  {
   "cell_type": "code",
   "execution_count": 115,
   "id": "2612c689-379c-447f-a311-09b6028b3d7f",
   "metadata": {},
   "outputs": [],
   "source": [
    "# b(3x2) nhân vô hướng a (3x3) => k nhân đc vì cột b != hàng a, nhưng ta có thể transpose b để nhân \n",
    "c= b.T # (2x3) dot a(3x3) "
   ]
  },
  {
   "cell_type": "code",
   "execution_count": 116,
   "id": "9147320e-9671-4cb5-a924-a0bf8217cf15",
   "metadata": {},
   "outputs": [
    {
     "data": {
      "text/plain": [
       "array([[36, 48, 60],\n",
       "       [24, 33, 42]])"
      ]
     },
     "execution_count": 116,
     "metadata": {},
     "output_type": "execute_result"
    }
   ],
   "source": [
    "c @ a "
   ]
  },
  {
   "cell_type": "markdown",
   "id": "63fc01cd-44cb-469a-9da4-e0e6a0217264",
   "metadata": {},
   "source": [
    "# Ví dụ sử dụng numpy + pandas "
   ]
  },
  {
   "cell_type": "code",
   "execution_count": 120,
   "id": "8dfcbba1-d457-43a6-b835-c05d8871cde5",
   "metadata": {},
   "outputs": [
    {
     "data": {
      "text/plain": [
       "array([[12, 15,  0],\n",
       "       [ 3,  3,  7],\n",
       "       [ 9, 19, 18],\n",
       "       [ 4,  6, 12],\n",
       "       [ 1,  6,  7]])"
      ]
     },
     "execution_count": 120,
     "metadata": {},
     "output_type": "execute_result"
    }
   ],
   "source": [
    "np.random.seed(0)\n",
    "sales_amount = np.random.randint(20, size =(5,3))\n",
    "sales_amount"
   ]
  },
  {
   "cell_type": "code",
   "execution_count": 124,
   "id": "f4d6e425-a88c-4dd7-ae54-0ed0201ab6cc",
   "metadata": {},
   "outputs": [
    {
     "data": {
      "text/html": [
       "<div>\n",
       "<style scoped>\n",
       "    .dataframe tbody tr th:only-of-type {\n",
       "        vertical-align: middle;\n",
       "    }\n",
       "\n",
       "    .dataframe tbody tr th {\n",
       "        vertical-align: top;\n",
       "    }\n",
       "\n",
       "    .dataframe thead th {\n",
       "        text-align: right;\n",
       "    }\n",
       "</style>\n",
       "<table border=\"1\" class=\"dataframe\">\n",
       "  <thead>\n",
       "    <tr style=\"text-align: right;\">\n",
       "      <th></th>\n",
       "      <th>apples</th>\n",
       "      <th>bananas</th>\n",
       "      <th>oranges</th>\n",
       "    </tr>\n",
       "  </thead>\n",
       "  <tbody>\n",
       "    <tr>\n",
       "      <th>Mon</th>\n",
       "      <td>12</td>\n",
       "      <td>15</td>\n",
       "      <td>0</td>\n",
       "    </tr>\n",
       "    <tr>\n",
       "      <th>Tues</th>\n",
       "      <td>3</td>\n",
       "      <td>3</td>\n",
       "      <td>7</td>\n",
       "    </tr>\n",
       "    <tr>\n",
       "      <th>Wed</th>\n",
       "      <td>9</td>\n",
       "      <td>19</td>\n",
       "      <td>18</td>\n",
       "    </tr>\n",
       "    <tr>\n",
       "      <th>Thurs</th>\n",
       "      <td>4</td>\n",
       "      <td>6</td>\n",
       "      <td>12</td>\n",
       "    </tr>\n",
       "    <tr>\n",
       "      <th>Fri</th>\n",
       "      <td>1</td>\n",
       "      <td>6</td>\n",
       "      <td>7</td>\n",
       "    </tr>\n",
       "  </tbody>\n",
       "</table>\n",
       "</div>"
      ],
      "text/plain": [
       "       apples  bananas  oranges\n",
       "Mon        12       15        0\n",
       "Tues        3        3        7\n",
       "Wed         9       19       18\n",
       "Thurs       4        6       12\n",
       "Fri         1        6        7"
      ]
     },
     "execution_count": 124,
     "metadata": {},
     "output_type": "execute_result"
    }
   ],
   "source": [
    "import pandas as pd \n",
    "weekly_sales = pd.DataFrame(sales_amount, index = [\"Mon\",\"Tues\",\"Wed\",\"Thurs\",\"Fri\"], columns = [\"apples\",\"bananas\",\"oranges\"])\n",
    "weekly_sales "
   ]
  },
  {
   "cell_type": "code",
   "execution_count": 125,
   "id": "9aa54018-2c01-4f07-a72f-7bc51fa8dd10",
   "metadata": {},
   "outputs": [],
   "source": [
    "prices = np.array([10,8,11]) \n",
    "#create a price array "
   ]
  },
  {
   "cell_type": "code",
   "execution_count": 128,
   "id": "5971def2-af8c-4e56-acb5-c74d52a5a550",
   "metadata": {},
   "outputs": [
    {
     "data": {
      "text/plain": [
       "(3,)"
      ]
     },
     "execution_count": 128,
     "metadata": {},
     "output_type": "execute_result"
    }
   ],
   "source": [
    "prices.shape"
   ]
  },
  {
   "cell_type": "code",
   "execution_count": 129,
   "id": "65e5ad92-4205-4f47-9eae-6702e4baeef4",
   "metadata": {},
   "outputs": [],
   "source": [
    "products_price = pd.DataFrame(prices.reshape(1,3), index =[\"Price\"], columns = [\"apples\",\"bananas\",\"oranges\"]) "
   ]
  },
  {
   "cell_type": "code",
   "execution_count": 130,
   "id": "7b2bc6ff-3ebe-4485-9127-cf00c4fad257",
   "metadata": {},
   "outputs": [
    {
     "data": {
      "text/html": [
       "<div>\n",
       "<style scoped>\n",
       "    .dataframe tbody tr th:only-of-type {\n",
       "        vertical-align: middle;\n",
       "    }\n",
       "\n",
       "    .dataframe tbody tr th {\n",
       "        vertical-align: top;\n",
       "    }\n",
       "\n",
       "    .dataframe thead th {\n",
       "        text-align: right;\n",
       "    }\n",
       "</style>\n",
       "<table border=\"1\" class=\"dataframe\">\n",
       "  <thead>\n",
       "    <tr style=\"text-align: right;\">\n",
       "      <th></th>\n",
       "      <th>apples</th>\n",
       "      <th>bananas</th>\n",
       "      <th>oranges</th>\n",
       "    </tr>\n",
       "  </thead>\n",
       "  <tbody>\n",
       "    <tr>\n",
       "      <th>Price</th>\n",
       "      <td>10</td>\n",
       "      <td>8</td>\n",
       "      <td>11</td>\n",
       "    </tr>\n",
       "  </tbody>\n",
       "</table>\n",
       "</div>"
      ],
      "text/plain": [
       "       apples  bananas  oranges\n",
       "Price      10        8       11"
      ]
     },
     "execution_count": 130,
     "metadata": {},
     "output_type": "execute_result"
    }
   ],
   "source": [
    "products_price"
   ]
  },
  {
   "cell_type": "markdown",
   "id": "71d45466-c7d7-4213-b304-0a0ff4b7bef8",
   "metadata": {},
   "source": [
    "### Tính tổng doanh thu trong 1 tuần "
   ]
  },
  {
   "cell_type": "code",
   "execution_count": 134,
   "id": "d40a007d-b933-4dfb-bd5a-eb1df356e578",
   "metadata": {},
   "outputs": [
    {
     "data": {
      "text/plain": [
       "((1, 3), (5, 3))"
      ]
     },
     "execution_count": 134,
     "metadata": {},
     "output_type": "execute_result"
    }
   ],
   "source": [
    "products_price.shape, weekly_sales.shape "
   ]
  },
  {
   "cell_type": "code",
   "execution_count": 135,
   "id": "549936e8-062a-46a8-b176-96f630853f2b",
   "metadata": {},
   "outputs": [],
   "source": [
    "price_of_products = products_price.T "
   ]
  },
  {
   "cell_type": "code",
   "execution_count": 136,
   "id": "b986e47a-832e-4e06-877e-848c26f9ff7c",
   "metadata": {},
   "outputs": [],
   "source": [
    "total_prices = weekly_sales.dot(price_of_products)"
   ]
  },
  {
   "cell_type": "code",
   "execution_count": 137,
   "id": "dc9212cd-e04e-4165-ae60-2890cc489c68",
   "metadata": {},
   "outputs": [
    {
     "data": {
      "text/html": [
       "<div>\n",
       "<style scoped>\n",
       "    .dataframe tbody tr th:only-of-type {\n",
       "        vertical-align: middle;\n",
       "    }\n",
       "\n",
       "    .dataframe tbody tr th {\n",
       "        vertical-align: top;\n",
       "    }\n",
       "\n",
       "    .dataframe thead th {\n",
       "        text-align: right;\n",
       "    }\n",
       "</style>\n",
       "<table border=\"1\" class=\"dataframe\">\n",
       "  <thead>\n",
       "    <tr style=\"text-align: right;\">\n",
       "      <th></th>\n",
       "      <th>Price</th>\n",
       "    </tr>\n",
       "  </thead>\n",
       "  <tbody>\n",
       "    <tr>\n",
       "      <th>Mon</th>\n",
       "      <td>240</td>\n",
       "    </tr>\n",
       "    <tr>\n",
       "      <th>Tues</th>\n",
       "      <td>131</td>\n",
       "    </tr>\n",
       "    <tr>\n",
       "      <th>Wed</th>\n",
       "      <td>440</td>\n",
       "    </tr>\n",
       "    <tr>\n",
       "      <th>Thurs</th>\n",
       "      <td>220</td>\n",
       "    </tr>\n",
       "    <tr>\n",
       "      <th>Fri</th>\n",
       "      <td>135</td>\n",
       "    </tr>\n",
       "  </tbody>\n",
       "</table>\n",
       "</div>"
      ],
      "text/plain": [
       "       Price\n",
       "Mon      240\n",
       "Tues     131\n",
       "Wed      440\n",
       "Thurs    220\n",
       "Fri      135"
      ]
     },
     "execution_count": 137,
     "metadata": {},
     "output_type": "execute_result"
    }
   ],
   "source": [
    "total_prices "
   ]
  },
  {
   "cell_type": "markdown",
   "id": "05fe88ff-d0e2-4e4e-b239-f75c9d7a2bf5",
   "metadata": {},
   "source": [
    "#### Thêm cột \"Total_prices\" vào trong dataframe "
   ]
  },
  {
   "cell_type": "code",
   "execution_count": 138,
   "id": "960d58f9-4216-498a-9fba-f33b9f283efd",
   "metadata": {},
   "outputs": [
    {
     "data": {
      "text/html": [
       "<div>\n",
       "<style scoped>\n",
       "    .dataframe tbody tr th:only-of-type {\n",
       "        vertical-align: middle;\n",
       "    }\n",
       "\n",
       "    .dataframe tbody tr th {\n",
       "        vertical-align: top;\n",
       "    }\n",
       "\n",
       "    .dataframe thead th {\n",
       "        text-align: right;\n",
       "    }\n",
       "</style>\n",
       "<table border=\"1\" class=\"dataframe\">\n",
       "  <thead>\n",
       "    <tr style=\"text-align: right;\">\n",
       "      <th></th>\n",
       "      <th>apples</th>\n",
       "      <th>bananas</th>\n",
       "      <th>oranges</th>\n",
       "      <th>Total_price</th>\n",
       "    </tr>\n",
       "  </thead>\n",
       "  <tbody>\n",
       "    <tr>\n",
       "      <th>Mon</th>\n",
       "      <td>12</td>\n",
       "      <td>15</td>\n",
       "      <td>0</td>\n",
       "      <td>240</td>\n",
       "    </tr>\n",
       "    <tr>\n",
       "      <th>Tues</th>\n",
       "      <td>3</td>\n",
       "      <td>3</td>\n",
       "      <td>7</td>\n",
       "      <td>131</td>\n",
       "    </tr>\n",
       "    <tr>\n",
       "      <th>Wed</th>\n",
       "      <td>9</td>\n",
       "      <td>19</td>\n",
       "      <td>18</td>\n",
       "      <td>440</td>\n",
       "    </tr>\n",
       "    <tr>\n",
       "      <th>Thurs</th>\n",
       "      <td>4</td>\n",
       "      <td>6</td>\n",
       "      <td>12</td>\n",
       "      <td>220</td>\n",
       "    </tr>\n",
       "    <tr>\n",
       "      <th>Fri</th>\n",
       "      <td>1</td>\n",
       "      <td>6</td>\n",
       "      <td>7</td>\n",
       "      <td>135</td>\n",
       "    </tr>\n",
       "  </tbody>\n",
       "</table>\n",
       "</div>"
      ],
      "text/plain": [
       "       apples  bananas  oranges  Total_price\n",
       "Mon        12       15        0          240\n",
       "Tues        3        3        7          131\n",
       "Wed         9       19       18          440\n",
       "Thurs       4        6       12          220\n",
       "Fri         1        6        7          135"
      ]
     },
     "execution_count": 138,
     "metadata": {},
     "output_type": "execute_result"
    }
   ],
   "source": [
    "weekly_sales[\"Total_price\"] = total_prices \n",
    "weekly_sales "
   ]
  },
  {
   "cell_type": "code",
   "execution_count": null,
   "id": "37b9c363-1630-4970-896c-c96d31939961",
   "metadata": {},
   "outputs": [],
   "source": []
  }
 ],
 "metadata": {
  "kernelspec": {
   "display_name": "Python 3 (ipykernel)",
   "language": "python",
   "name": "python3"
  },
  "language_info": {
   "codemirror_mode": {
    "name": "ipython",
    "version": 3
   },
   "file_extension": ".py",
   "mimetype": "text/x-python",
   "name": "python",
   "nbconvert_exporter": "python",
   "pygments_lexer": "ipython3",
   "version": "3.12.4"
  }
 },
 "nbformat": 4,
 "nbformat_minor": 5
}
